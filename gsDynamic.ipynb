{
 "cells": [
  {
   "cell_type": "markdown",
   "metadata": {},
   "source": [
    "Integrantes:\n",
    "\n",
    "\n",
    "MATHEUS FARIAS DE LIMA - RM554254 \n",
    "\n",
    "MIGUEL MAURICIO PARRADO PATARROYO – RM554007 "
   ]
  },
  {
   "cell_type": "code",
   "execution_count": 1,
   "metadata": {},
   "outputs": [
    {
     "name": "stdout",
     "output_type": "stream",
     "text": [
      "Alocação de processos nos servidores: [[4, 2, 6], [2, 9], [1, 5]]\n",
      "Carga de cada servidor: [12, 11, 6]\n",
      "Carga do sistema (máxima carga entre os servidores): 12\n"
     ]
    }
   ],
   "source": [
    "def distribuir_processos(tempos_processos, num_servidores):\n",
    "    \"\"\"\n",
    "    Distribui processos entre servidores para minimizar a carga de trabalho máxima.\n",
    "\n",
    "    Parâmetros:\n",
    "    - tempos_processos (list of int): Lista dos tempos de execução dos processos.\n",
    "    - num_servidores (int): Número de servidores disponíveis.\n",
    "\n",
    "    Retorna:\n",
    "    - servidores (list of list of int): Lista de listas onde cada sublista representa\n",
    "      os processos atribuídos a um servidor específico.\n",
    "    - carga_servidores (list of int): Lista de cargas totais de cada servidor.\n",
    "    - carga_sistema (int): Carga máxima entre os servidores, representando a carga do sistema.\n",
    "    \"\"\"\n",
    "    \n",
    "    # Verificação de entrada: número de servidores deve ser positivo\n",
    "    if num_servidores <= 0:\n",
    "        raise ValueError(\"O número de servidores deve ser maior que zero.\")\n",
    "    \n",
    "    # Verificação de entrada: lista de tempos dos processos não deve estar vazia\n",
    "    if not tempos_processos:\n",
    "        raise ValueError(\"A lista de tempos dos processos não pode estar vazia.\")\n",
    "    \n",
    "    # Inicializamos os servidores como listas vazias dentro de uma lista maior\n",
    "    servidores = [[] for _ in range(num_servidores)]\n",
    "    \n",
    "    # Inicializamos as cargas de cada servidor como zero\n",
    "    carga_servidores = [0] * num_servidores\n",
    "\n",
    "    # Algoritmo guloso para distribuir os processos\n",
    "    for tempo in tempos_processos:\n",
    "        # Encontrar o servidor com a menor carga até o momento\n",
    "        servidor_com_menor_carga = carga_servidores.index(min(carga_servidores))\n",
    "        \n",
    "        # Atribuir o processo a este servidor\n",
    "        servidores[servidor_com_menor_carga].append(tempo)\n",
    "        \n",
    "        # Atualizar a carga do servidor\n",
    "        carga_servidores[servidor_com_menor_carga] += tempo\n",
    "\n",
    "    # Cálculo da carga total do sistema (máxima carga entre os servidores)\n",
    "    carga_sistema = max(carga_servidores)\n",
    "\n",
    "    # Retorna os resultados organizados\n",
    "    return servidores, carga_servidores, carga_sistema\n",
    "\n",
    "# Exemplo de uso da função\n",
    "tempos_processos = [4, 2, 1, 5, 9, 2, 6]\n",
    "num_servidores = 3\n",
    "\n",
    "# Chamando a função com os dados de exemplo\n",
    "servidores, carga_servidores, carga_sistema = distribuir_processos(tempos_processos, num_servidores)\n",
    "\n",
    "# Exibindo os resultados\n",
    "print(\"Alocação de processos nos servidores:\", servidores)\n",
    "print(\"Carga de cada servidor:\", carga_servidores)\n",
    "print(\"Carga do sistema (máxima carga entre os servidores):\", carga_sistema)\n"
   ]
  }
 ],
 "metadata": {
  "kernelspec": {
   "display_name": "Python 3",
   "language": "python",
   "name": "python3"
  },
  "language_info": {
   "codemirror_mode": {
    "name": "ipython",
    "version": 3
   },
   "file_extension": ".py",
   "mimetype": "text/x-python",
   "name": "python",
   "nbconvert_exporter": "python",
   "pygments_lexer": "ipython3",
   "version": "3.11.5"
  },
  "orig_nbformat": 4
 },
 "nbformat": 4,
 "nbformat_minor": 2
}
